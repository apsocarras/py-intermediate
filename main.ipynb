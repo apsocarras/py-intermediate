{
 "cells": [
  {
   "cell_type": "code",
   "execution_count": 44,
   "metadata": {},
   "outputs": [
    {
     "name": "stdout",
     "output_type": "stream",
     "text": [
      "List index out of range: the entered list is shorter than four elements.\n"
     ]
    }
   ],
   "source": [
    "def fourth_place(ls:list): # Can't hint for output type since a list entry could be of any type.\n",
    "  \"\"\" Returns fourth item in the list.\n",
    "\n",
    "  Args: \n",
    "    ls (list): list of objects of any type\n",
    "\n",
    "  Returns: \n",
    "    ls[3] (undetermined): fourth item in the list \n",
    "    \n",
    "  \"\"\"\n",
    "  try:\n",
    "    return ls[3]\n",
    "  except IndexError as E:\n",
    "    print(f\"{str(E).capitalize()}: the entered list is shorter than four elements.\")"
   ]
  },
  {
   "cell_type": "code",
   "execution_count": 45,
   "metadata": {},
   "outputs": [
    {
     "data": {
      "text/plain": [
       "-2"
      ]
     },
     "execution_count": 45,
     "metadata": {},
     "output_type": "execute_result"
    }
   ],
   "source": [
    "subtracter_lambda = lambda n1, n2: n1 - n2\n",
    "subtracter_lambda(2,4)"
   ]
  },
  {
   "cell_type": "code",
   "execution_count": 46,
   "metadata": {},
   "outputs": [
    {
     "name": "stdout",
     "output_type": "stream",
     "text": [
      "Euro Size: 42\n",
      "Euro Size: 45\n"
     ]
    }
   ],
   "source": [
    "class Shoe:\n",
    "  def __init__(self, US_size:int, color:str, smelly:bool) -> None:\n",
    "    \"\"\" Initializes an instance of the Shoe class (called with 'Shoe()')\n",
    "    \n",
    "    Args:\n",
    "      US_size (int): The size of the shoe in US measurement\n",
    "      color (str): The color of the shoe\n",
    "      smelly (bool): Whether the shoe is smelly\n",
    "\n",
    "    Returns: None\n",
    "    \n",
    "    \"\"\"\n",
    "    self.US_size = US_size\n",
    "\n",
    "  def euro_size(self) -> None:\n",
    "    # The question prompt says this function needs to \"convert US_size to European size.\" Does that mean it needs to *replace* the prior US_size value?\n",
    "    # I wasn't sure, so I just added another attribute called \"Euro_size\". I'm not sure this counts as \"converting\" US_size. \n",
    "    \"\"\" Converts US_size attribute to European sizing by adding 33, and prints a string stating the European size\n",
    "\n",
    "    Args: None\n",
    "    Returns: None\n",
    "    \n",
    "    \"\"\"\n",
    "    self.Euro_size = self.US_size + 33\n",
    "    print(f\"Euro Size: {self.Euro_size}\")\n",
    "\n",
    "stilleto = Shoe(9, \"red\", False)\n",
    "boot = Shoe(12, \"brown\", True)\n",
    "\n",
    "stilleto.euro_size()\n",
    "boot.euro_size()"
   ]
  },
  {
   "cell_type": "code",
   "execution_count": 55,
   "metadata": {},
   "outputs": [
    {
     "name": "stdout",
     "output_type": "stream",
     "text": [
      "Welcome to the Milky Way Galaxy!\n",
      "Here we have a delightful variety of non-planetary and planetary objects.\n",
      "On the part of the non-planets, we have:\n",
      "\tasteroid belts,\n",
      "\tcomets,\n",
      "\tcosmic rays,\n",
      "and more! As for planets, you can find millions of them! Here's 3 of them:\n",
      "\t'Orange Jupiter',\n",
      "\t'Yellow Saturn',\n",
      "\t'Blue Neptune',\n",
      "...and, uh, 'Unforgettable Pluto'! So that's 4, actually. Right.\n"
     ]
    }
   ],
   "source": [
    "def galaxy(name: str, *non_planets: str, pluto_is_planet = False, **planets: str) -> None: \n",
    "  \"\"\" Prints a paragraph of space facts about the entered galaxy.\n",
    "\n",
    "  Args: \n",
    "    name (str): Name of a galaxy\n",
    "    *non_planets (str): Types of non-planetary objects (given as plural nouns)\n",
    "    pluto_is_planet (bool): Whether there's a planet called 'Pluto' in the current galaxy\n",
    "    **planets (str): Names of planets and their colors\n",
    "\n",
    "  Returns: None\n",
    "\n",
    "  \"\"\"\n",
    "  print(f\"Welcome to the {name.title()} Galaxy!\\nHere we have a delightful variety of non-planetary and planetary objects.\")\n",
    "  print(\"On the part of the non-planets, we have:\")\n",
    "  for object in non_planets:\n",
    "    print(f\"\\t{object},\")\n",
    "  print(f\"and more! As for planets, you can find millions of them! Here's {len(planets)} of them:\")\n",
    "  for planet, color in planets.items(): \n",
    "    print(f\"\\t'{color.capitalize()} {planet}',\")\n",
    "  if pluto_is_planet:\n",
    "    print(f\"...and, uh, 'Unforgettable Pluto'! So that's {len(planets) + 1}, actually. Right.\")\n",
    "  else:\n",
    "    print(\"but unfortunately not Pluto.\")\n",
    "\n",
    "galaxy(\"milky way\", \"asteroid belts\", \"comets\",\"cosmic rays\", pluto_is_planet=True, Jupiter = \"orange\", Saturn = \"yellow\", Neptune = \"blue\")"
   ]
  }
 ],
 "metadata": {
  "kernelspec": {
   "display_name": "Python 3.10.6 64-bit",
   "language": "python",
   "name": "python3"
  },
  "language_info": {
   "codemirror_mode": {
    "name": "ipython",
    "version": 3
   },
   "file_extension": ".py",
   "mimetype": "text/x-python",
   "name": "python",
   "nbconvert_exporter": "python",
   "pygments_lexer": "ipython3",
   "version": "3.10.6"
  },
  "orig_nbformat": 4,
  "vscode": {
   "interpreter": {
    "hash": "916dbcbb3f70747c44a77c7bcd40155683ae19c65e1c03b4aa3499c5328201f1"
   }
  }
 },
 "nbformat": 4,
 "nbformat_minor": 2
}
